{
  "cells": [
    {
      "cell_type": "code",
      "execution_count": 1,
      "metadata": {
        "colab": {
          "base_uri": "https://localhost:8080/"
        },
        "id": "pJtQ8qv2j4EZ",
        "outputId": "0d82503b-ad79-4be8-abfd-903ed4dd73d4"
      },
      "outputs": [
        {
          "name": "stdout",
          "output_type": "stream",
          "text": [
            "(2811774, 7)\n"
          ]
        },
        {
          "data": {
            "text/html": [
              "<div>\n",
              "<style scoped>\n",
              "    .dataframe tbody tr th:only-of-type {\n",
              "        vertical-align: middle;\n",
              "    }\n",
              "\n",
              "    .dataframe tbody tr th {\n",
              "        vertical-align: top;\n",
              "    }\n",
              "\n",
              "    .dataframe thead th {\n",
              "        text-align: right;\n",
              "    }\n",
              "</style>\n",
              "<table border=\"1\" class=\"dataframe\">\n",
              "  <thead>\n",
              "    <tr style=\"text-align: right;\">\n",
              "      <th></th>\n",
              "      <th>tweet_id</th>\n",
              "      <th>author_id</th>\n",
              "      <th>inbound</th>\n",
              "      <th>created_at</th>\n",
              "      <th>text</th>\n",
              "      <th>response_tweet_id</th>\n",
              "      <th>in_response_to_tweet_id</th>\n",
              "    </tr>\n",
              "  </thead>\n",
              "  <tbody>\n",
              "    <tr>\n",
              "      <th>0</th>\n",
              "      <td>1</td>\n",
              "      <td>sprintcare</td>\n",
              "      <td>False</td>\n",
              "      <td>Tue Oct 31 22:10:47 +0000 2017</td>\n",
              "      <td>@115712 I understand. I would like to assist y...</td>\n",
              "      <td>2</td>\n",
              "      <td>3.0</td>\n",
              "    </tr>\n",
              "    <tr>\n",
              "      <th>1</th>\n",
              "      <td>2</td>\n",
              "      <td>115712</td>\n",
              "      <td>True</td>\n",
              "      <td>Tue Oct 31 22:11:45 +0000 2017</td>\n",
              "      <td>@sprintcare and how do you propose we do that</td>\n",
              "      <td>NaN</td>\n",
              "      <td>1.0</td>\n",
              "    </tr>\n",
              "    <tr>\n",
              "      <th>2</th>\n",
              "      <td>3</td>\n",
              "      <td>115712</td>\n",
              "      <td>True</td>\n",
              "      <td>Tue Oct 31 22:08:27 +0000 2017</td>\n",
              "      <td>@sprintcare I have sent several private messag...</td>\n",
              "      <td>1</td>\n",
              "      <td>4.0</td>\n",
              "    </tr>\n",
              "    <tr>\n",
              "      <th>3</th>\n",
              "      <td>4</td>\n",
              "      <td>sprintcare</td>\n",
              "      <td>False</td>\n",
              "      <td>Tue Oct 31 21:54:49 +0000 2017</td>\n",
              "      <td>@115712 Please send us a Private Message so th...</td>\n",
              "      <td>3</td>\n",
              "      <td>5.0</td>\n",
              "    </tr>\n",
              "    <tr>\n",
              "      <th>4</th>\n",
              "      <td>5</td>\n",
              "      <td>115712</td>\n",
              "      <td>True</td>\n",
              "      <td>Tue Oct 31 21:49:35 +0000 2017</td>\n",
              "      <td>@sprintcare I did.</td>\n",
              "      <td>4</td>\n",
              "      <td>6.0</td>\n",
              "    </tr>\n",
              "  </tbody>\n",
              "</table>\n",
              "</div>"
            ],
            "text/plain": [
              "   tweet_id   author_id  inbound                      created_at  \\\n",
              "0         1  sprintcare    False  Tue Oct 31 22:10:47 +0000 2017   \n",
              "1         2      115712     True  Tue Oct 31 22:11:45 +0000 2017   \n",
              "2         3      115712     True  Tue Oct 31 22:08:27 +0000 2017   \n",
              "3         4  sprintcare    False  Tue Oct 31 21:54:49 +0000 2017   \n",
              "4         5      115712     True  Tue Oct 31 21:49:35 +0000 2017   \n",
              "\n",
              "                                                text response_tweet_id  \\\n",
              "0  @115712 I understand. I would like to assist y...                 2   \n",
              "1      @sprintcare and how do you propose we do that               NaN   \n",
              "2  @sprintcare I have sent several private messag...                 1   \n",
              "3  @115712 Please send us a Private Message so th...                 3   \n",
              "4                                 @sprintcare I did.                 4   \n",
              "\n",
              "   in_response_to_tweet_id  \n",
              "0                      3.0  \n",
              "1                      1.0  \n",
              "2                      4.0  \n",
              "3                      5.0  \n",
              "4                      6.0  "
            ]
          },
          "execution_count": 1,
          "metadata": {},
          "output_type": "execute_result"
        }
      ],
      "source": [
        "import pandas as pd\n",
        "\n",
        "# Set the path to the dataset in the server\n",
        "file_path = \"/Disk1/vish/openvla/archive-2/twcs/twcs.csv\"\n",
        "\n",
        "# Load the CSV file\n",
        "df = pd.read_csv(file_path)\n",
        "\n",
        "# Show first few rows to confirm it's loaded\n",
        "print(df.shape)\n",
        "df.head()"
      ]
    },
    {
      "cell_type": "code",
      "execution_count": 2,
      "metadata": {
        "colab": {
          "base_uri": "https://localhost:8080/",
          "height": 419
        },
        "id": "wOYQ6qIRv0A8",
        "outputId": "cf254d66-fb0b-487d-bd67-03204b95b51f"
      },
      "outputs": [
        {
          "data": {
            "text/html": [
              "<div>\n",
              "<style scoped>\n",
              "    .dataframe tbody tr th:only-of-type {\n",
              "        vertical-align: middle;\n",
              "    }\n",
              "\n",
              "    .dataframe tbody tr th {\n",
              "        vertical-align: top;\n",
              "    }\n",
              "\n",
              "    .dataframe thead th {\n",
              "        text-align: right;\n",
              "    }\n",
              "</style>\n",
              "<table border=\"1\" class=\"dataframe\">\n",
              "  <thead>\n",
              "    <tr style=\"text-align: right;\">\n",
              "      <th></th>\n",
              "      <th>text</th>\n",
              "      <th>category</th>\n",
              "    </tr>\n",
              "  </thead>\n",
              "  <tbody>\n",
              "    <tr>\n",
              "      <th>1</th>\n",
              "      <td>@sprintcare and how do you propose we do that</td>\n",
              "      <td>general</td>\n",
              "    </tr>\n",
              "    <tr>\n",
              "      <th>2</th>\n",
              "      <td>@sprintcare I have sent several private messag...</td>\n",
              "      <td>general</td>\n",
              "    </tr>\n",
              "    <tr>\n",
              "      <th>4</th>\n",
              "      <td>@sprintcare I did.</td>\n",
              "      <td>general</td>\n",
              "    </tr>\n",
              "    <tr>\n",
              "      <th>6</th>\n",
              "      <td>@sprintcare is the worst customer service</td>\n",
              "      <td>support</td>\n",
              "    </tr>\n",
              "    <tr>\n",
              "      <th>8</th>\n",
              "      <td>@sprintcare You gonna magically change your co...</td>\n",
              "      <td>general</td>\n",
              "    </tr>\n",
              "    <tr>\n",
              "      <th>...</th>\n",
              "      <td>...</td>\n",
              "      <td>...</td>\n",
              "    </tr>\n",
              "    <tr>\n",
              "      <th>162</th>\n",
              "      <td>Any help here @AdobeCare? https://t.co/x50e57UG4E</td>\n",
              "      <td>support</td>\n",
              "    </tr>\n",
              "    <tr>\n",
              "      <th>164</th>\n",
              "      <td>@AdobeCare nope still down.</td>\n",
              "      <td>general</td>\n",
              "    </tr>\n",
              "    <tr>\n",
              "      <th>166</th>\n",
              "      <td>@AdobeCare yes ive done that multiple times. i...</td>\n",
              "      <td>general</td>\n",
              "    </tr>\n",
              "    <tr>\n",
              "      <th>168</th>\n",
              "      <td>@AdobeCare ok</td>\n",
              "      <td>general</td>\n",
              "    </tr>\n",
              "    <tr>\n",
              "      <th>169</th>\n",
              "      <td>@AdobeCare so..when are they available?</td>\n",
              "      <td>general</td>\n",
              "    </tr>\n",
              "  </tbody>\n",
              "</table>\n",
              "<p>94 rows × 2 columns</p>\n",
              "</div>"
            ],
            "text/plain": [
              "                                                  text category\n",
              "1        @sprintcare and how do you propose we do that  general\n",
              "2    @sprintcare I have sent several private messag...  general\n",
              "4                                   @sprintcare I did.  general\n",
              "6            @sprintcare is the worst customer service  support\n",
              "8    @sprintcare You gonna magically change your co...  general\n",
              "..                                                 ...      ...\n",
              "162  Any help here @AdobeCare? https://t.co/x50e57UG4E  support\n",
              "164                        @AdobeCare nope still down.  general\n",
              "166  @AdobeCare yes ive done that multiple times. i...  general\n",
              "168                                      @AdobeCare ok  general\n",
              "169            @AdobeCare so..when are they available?  general\n",
              "\n",
              "[94 rows x 2 columns]"
            ]
          },
          "execution_count": 2,
          "metadata": {},
          "output_type": "execute_result"
        }
      ],
      "source": [
        "import numpy as np\n",
        "\n",
        "# Define expanded category assignment function\n",
        "def expanded_category(text):\n",
        "    text_lower = text.lower()\n",
        "\n",
        "    if any(kw in text_lower for kw in [\"charge\", \"bill\", \"payment\", \"refund\", \"invoice\", \"overcharged\", \"fee\"]):\n",
        "        return \"billing\"\n",
        "    elif any(kw in text_lower for kw in [\"error\", \"issue\", \"not working\", \"bug\", \"crash\", \"glitch\", \"slow\", \"update\"]):\n",
        "        return \"technical\"\n",
        "    elif any(kw in text_lower for kw in [\"login\", \"account\", \"password\", \"access\", \"locked\", \"reset\", \"credentials\"]):\n",
        "        return \"account\"\n",
        "    elif any(kw in text_lower for kw in [\"delivery\", \"arrive\", \"late\", \"shipping\", \"delayed\", \"tracking\", \"package\"]):\n",
        "        return \"delivery\"\n",
        "    elif any(kw in text_lower for kw in [\"product\", \"item\", \"order\", \"quality\", \"broken\", \"damaged\", \"warranty\"]):\n",
        "        return \"product\"\n",
        "    elif any(kw in text_lower for kw in [\"help\", \"support\", \"assistance\", \"customer service\", \"agent\", \"representative\"]):\n",
        "        return \"support\"\n",
        "    else:\n",
        "        return \"general\"\n",
        "\n",
        "# Apply to inbound tweets only\n",
        "df[\"category\"] = df.apply(lambda row: expanded_category(row[\"text\"]) if row[\"inbound\"] else np.nan, axis=1)\n",
        "\n",
        "# Display a few newly categorized inbound tweets\n",
        "inbound_expanded = df[df[\"inbound\"]][[\"text\", \"category\"]].head(94)\n",
        "inbound_expanded\n"
      ]
    },
    {
      "cell_type": "code",
      "execution_count": 3,
      "metadata": {
        "colab": {
          "base_uri": "https://localhost:8080/"
        },
        "id": "3EsnVU4ev0HY",
        "outputId": "8a992553-79c4-4a4c-d41e-92ccaad5810a"
      },
      "outputs": [
        {
          "data": {
            "text/plain": [
              "(1230274, 307569)"
            ]
          },
          "execution_count": 3,
          "metadata": {},
          "output_type": "execute_result"
        }
      ],
      "source": [
        "from sklearn.model_selection import train_test_split\n",
        "\n",
        "# Filter dataset: inbound tweets only with valid category\n",
        "filtered_df = df[(df[\"inbound\"]) & (df[\"category\"].notnull())]\n",
        "\n",
        "# Features and target\n",
        "X = filtered_df[\"text\"]\n",
        "y = filtered_df[\"category\"]\n",
        "\n",
        "# Split into train and test sets (80/20 split)\n",
        "X_train, X_test, y_train, y_test = train_test_split(X, y, test_size=0.2, random_state=42, stratify=y)\n",
        "\n",
        "# Show split sizes\n",
        "len(X_train), len(X_test)\n"
      ]
    },
    {
      "cell_type": "code",
      "execution_count": 4,
      "metadata": {
        "colab": {
          "base_uri": "https://localhost:8080/"
        },
        "id": "5aX3fFDczfVt",
        "outputId": "8ea489f4-ab97-4b8a-eb83-e9252a1e9906"
      },
      "outputs": [
        {
          "data": {
            "text/plain": [
              "('              precision    recall  f1-score   support\\n\\n     account       0.96      0.91      0.93     11263\\n     billing       0.99      0.73      0.84     19279\\n    delivery       0.97      0.91      0.94     17358\\n     general       0.93      1.00      0.96    138406\\n     product       0.95      0.90      0.92     12432\\n     support       0.95      0.96      0.95     82242\\n   technical       0.97      0.87      0.92     26589\\n\\n    accuracy                           0.95    307569\\n   macro avg       0.96      0.90      0.92    307569\\nweighted avg       0.95      0.95      0.94    307569\\n',\n",
              " array([[ 10234,     11,     57,    460,     71,    395,     35],\n",
              "        [   275,  14138,    229,   2844,    234,   1158,    401],\n",
              "        [     0,     12,  15804,    900,    171,    452,     19],\n",
              "        [     0,     22,      0, 137716,      0,    528,    140],\n",
              "        [     0,      9,      0,    676,  11193,    523,     31],\n",
              "        [     0,     49,      1,   3395,      0,  78617,    180],\n",
              "        [   173,     18,    151,   1723,    138,   1191,  23195]]))"
            ]
          },
          "execution_count": 4,
          "metadata": {},
          "output_type": "execute_result"
        }
      ],
      "source": [
        "from sklearn.feature_extraction.text import TfidfVectorizer\n",
        "from sklearn.linear_model import LogisticRegression\n",
        "from sklearn.pipeline import Pipeline\n",
        "from sklearn.metrics import classification_report, confusion_matrix\n",
        "\n",
        "# Create a pipeline: TF-IDF vectorizer + Logistic Regression\n",
        "pipeline = Pipeline([\n",
        "    ('tfidf', TfidfVectorizer(stop_words='english', max_features=1000)),\n",
        "    ('clf', LogisticRegression(max_iter=200, random_state=42))\n",
        "])\n",
        "\n",
        "# Train the model\n",
        "pipeline.fit(X_train, y_train)\n",
        "\n",
        "# Predict on test set\n",
        "y_pred = pipeline.predict(X_test)\n",
        "\n",
        "# Evaluation results\n",
        "report = classification_report(y_test, y_pred, output_dict=False)\n",
        "conf_matrix = confusion_matrix(y_test, y_pred)\n",
        "\n",
        "(report, conf_matrix)\n"
      ]
    },
    {
      "cell_type": "code",
      "execution_count": 5,
      "metadata": {
        "colab": {
          "base_uri": "https://localhost:8080/"
        },
        "id": "PIla3uAazfXZ",
        "outputId": "32d281d9-22d3-41f7-d188-0136b0a471c6"
      },
      "outputs": [
        {
          "name": "stdout",
          "output_type": "stream",
          "text": [
            "              precision    recall  f1-score   support\n",
            "\n",
            "     account       0.96      0.91      0.93     11263\n",
            "     billing       0.99      0.73      0.84     19279\n",
            "    delivery       0.97      0.91      0.94     17358\n",
            "     general       0.93      1.00      0.96    138406\n",
            "     product       0.95      0.90      0.92     12432\n",
            "     support       0.95      0.96      0.95     82242\n",
            "   technical       0.97      0.87      0.92     26589\n",
            "\n",
            "    accuracy                           0.95    307569\n",
            "   macro avg       0.96      0.90      0.92    307569\n",
            "weighted avg       0.95      0.95      0.94    307569\n",
            "\n"
          ]
        }
      ],
      "source": [
        "print(classification_report(y_test, y_pred))"
      ]
    },
    {
      "cell_type": "code",
      "execution_count": null,
      "metadata": {
        "id": "8JAbvNvECbng"
      },
      "outputs": [],
      "source": []
    },
    {
      "cell_type": "code",
      "execution_count": null,
      "metadata": {
        "id": "bo8LJ86UCbqp"
      },
      "outputs": [],
      "source": []
    },
    {
      "cell_type": "code",
      "execution_count": null,
      "metadata": {
        "id": "tTUNwcCFCbs_"
      },
      "outputs": [],
      "source": []
    },
    {
      "cell_type": "code",
      "execution_count": 13,
      "metadata": {
        "colab": {
          "base_uri": "https://localhost:8080/",
          "height": 500
        },
        "id": "_R7dgXW4zfhm",
        "outputId": "776d2e10-20ef-4180-f156-2d59e00359ce"
      },
      "outputs": [
        {
          "name": "stderr",
          "output_type": "stream",
          "text": [
            "/home/vish/.local/lib/python3.10/site-packages/huggingface_hub/file_download.py:943: FutureWarning: `resume_download` is deprecated and will be removed in version 1.0.0. Downloads always resume when possible. If you want to force a new download, use `force_download=True`.\n",
            "  warnings.warn(\n",
            "Some weights of DistilBertForSequenceClassification were not initialized from the model checkpoint at distilbert-base-uncased and are newly initialized: ['classifier.bias', 'classifier.weight', 'pre_classifier.bias', 'pre_classifier.weight']\n",
            "You should probably TRAIN this model on a down-stream task to be able to use it for predictions and inference.\n",
            "/home/vish/miniconda3/envs/minivla/lib/python3.10/site-packages/torch/nn/parallel/_functions.py:71: UserWarning: Was asked to gather along dimension 0, but all input tensors were scalars; will instead unsqueeze and return a vector.\n",
            "  warnings.warn(\n"
          ]
        },
        {
          "data": {
            "text/html": [
              "\n",
              "    <div>\n",
              "      \n",
              "      <progress value='12366' max='13740' style='width:300px; height:20px; vertical-align: middle;'></progress>\n",
              "      [12366/13740 17:06 < 01:54, 12.05 it/s, Epoch 9/10]\n",
              "    </div>\n",
              "    <table border=\"1\" class=\"dataframe\">\n",
              "  <thead>\n",
              " <tr style=\"text-align: left;\">\n",
              "      <th>Epoch</th>\n",
              "      <th>Training Loss</th>\n",
              "      <th>Validation Loss</th>\n",
              "    </tr>\n",
              "  </thead>\n",
              "  <tbody>\n",
              "    <tr>\n",
              "      <td>1</td>\n",
              "      <td>0.142400</td>\n",
              "      <td>0.140418</td>\n",
              "    </tr>\n",
              "    <tr>\n",
              "      <td>2</td>\n",
              "      <td>0.055700</td>\n",
              "      <td>0.117710</td>\n",
              "    </tr>\n",
              "    <tr>\n",
              "      <td>3</td>\n",
              "      <td>0.056200</td>\n",
              "      <td>0.105712</td>\n",
              "    </tr>\n",
              "    <tr>\n",
              "      <td>4</td>\n",
              "      <td>0.064000</td>\n",
              "      <td>0.090887</td>\n",
              "    </tr>\n",
              "    <tr>\n",
              "      <td>5</td>\n",
              "      <td>0.030900</td>\n",
              "      <td>0.120557</td>\n",
              "    </tr>\n",
              "    <tr>\n",
              "      <td>6</td>\n",
              "      <td>0.077500</td>\n",
              "      <td>0.069395</td>\n",
              "    </tr>\n",
              "    <tr>\n",
              "      <td>7</td>\n",
              "      <td>0.023100</td>\n",
              "      <td>0.066477</td>\n",
              "    </tr>\n",
              "    <tr>\n",
              "      <td>8</td>\n",
              "      <td>0.000000</td>\n",
              "      <td>0.067180</td>\n",
              "    </tr>\n",
              "    <tr>\n",
              "      <td>9</td>\n",
              "      <td>0.031000</td>\n",
              "      <td>0.071311</td>\n",
              "    </tr>\n",
              "  </tbody>\n",
              "</table><p>"
            ],
            "text/plain": [
              "<IPython.core.display.HTML object>"
            ]
          },
          "metadata": {},
          "output_type": "display_data"
        },
        {
          "name": "stderr",
          "output_type": "stream",
          "text": [
            "/home/vish/miniconda3/envs/minivla/lib/python3.10/site-packages/torch/nn/parallel/_functions.py:71: UserWarning: Was asked to gather along dimension 0, but all input tensors were scalars; will instead unsqueeze and return a vector.\n",
            "  warnings.warn(\n",
            "/home/vish/miniconda3/envs/minivla/lib/python3.10/site-packages/torch/nn/parallel/_functions.py:71: UserWarning: Was asked to gather along dimension 0, but all input tensors were scalars; will instead unsqueeze and return a vector.\n",
            "  warnings.warn(\n",
            "/home/vish/miniconda3/envs/minivla/lib/python3.10/site-packages/torch/nn/parallel/_functions.py:71: UserWarning: Was asked to gather along dimension 0, but all input tensors were scalars; will instead unsqueeze and return a vector.\n",
            "  warnings.warn(\n",
            "/home/vish/miniconda3/envs/minivla/lib/python3.10/site-packages/torch/nn/parallel/_functions.py:71: UserWarning: Was asked to gather along dimension 0, but all input tensors were scalars; will instead unsqueeze and return a vector.\n",
            "  warnings.warn(\n",
            "/home/vish/miniconda3/envs/minivla/lib/python3.10/site-packages/torch/nn/parallel/_functions.py:71: UserWarning: Was asked to gather along dimension 0, but all input tensors were scalars; will instead unsqueeze and return a vector.\n",
            "  warnings.warn(\n",
            "/home/vish/miniconda3/envs/minivla/lib/python3.10/site-packages/torch/nn/parallel/_functions.py:71: UserWarning: Was asked to gather along dimension 0, but all input tensors were scalars; will instead unsqueeze and return a vector.\n",
            "  warnings.warn(\n",
            "/home/vish/miniconda3/envs/minivla/lib/python3.10/site-packages/torch/nn/parallel/_functions.py:71: UserWarning: Was asked to gather along dimension 0, but all input tensors were scalars; will instead unsqueeze and return a vector.\n",
            "  warnings.warn(\n",
            "/home/vish/miniconda3/envs/minivla/lib/python3.10/site-packages/torch/nn/parallel/_functions.py:71: UserWarning: Was asked to gather along dimension 0, but all input tensors were scalars; will instead unsqueeze and return a vector.\n",
            "  warnings.warn(\n",
            "/home/vish/miniconda3/envs/minivla/lib/python3.10/site-packages/torch/nn/parallel/_functions.py:71: UserWarning: Was asked to gather along dimension 0, but all input tensors were scalars; will instead unsqueeze and return a vector.\n",
            "  warnings.warn(\n"
          ]
        },
        {
          "data": {
            "text/html": [],
            "text/plain": [
              "<IPython.core.display.HTML object>"
            ]
          },
          "metadata": {},
          "output_type": "display_data"
        },
        {
          "name": "stdout",
          "output_type": "stream",
          "text": [
            "              precision    recall  f1-score   support\n",
            "\n",
            "     account       1.00      1.00      1.00       406\n",
            "     billing       1.00      0.99      1.00       710\n",
            "    delivery       1.00      0.99      0.99       651\n",
            "     general       1.00      1.00      1.00      4779\n",
            "     product       0.99      1.00      0.99       446\n",
            "     support       1.00      1.00      1.00      3106\n",
            "   technical       1.00      0.99      0.99       892\n",
            "\n",
            "    accuracy                           1.00     10990\n",
            "   macro avg       1.00      0.99      0.99     10990\n",
            "weighted avg       1.00      1.00      1.00     10990\n",
            "\n"
          ]
        }
      ],
      "source": [
        "# Import libraries\n",
        "from transformers import DistilBertTokenizerFast, DistilBertForSequenceClassification, Trainer, TrainingArguments, EarlyStoppingCallback\n",
        "from sklearn.model_selection import train_test_split\n",
        "from sklearn.preprocessing import LabelEncoder\n",
        "from sklearn.metrics import classification_report\n",
        "from torch.utils.data import Dataset\n",
        "import torch\n",
        "import numpy as np\n",
        "import pandas as pd\n",
        "import os\n",
        "\n",
        "# File path to CSV dataset\n",
        "file_path = \"/Disk1/vish/openvla/archive-2/twcs/twcs.csv\"\n",
        "\n",
        "# Loading dataset with limited rows for faster training\n",
        "df = pd.read_csv(file_path, nrows=100000)\n",
        "\n",
        "# Define a function to assign a category based on text\n",
        "def assign_category(text):\n",
        "    text = str(text).lower()\n",
        "    if any(kw in text for kw in [\"charge\", \"bill\", \"payment\", \"refund\", \"overcharged\", \"fee\"]):\n",
        "        return \"billing\"\n",
        "    elif any(kw in text for kw in [\"error\", \"issue\", \"not working\", \"bug\", \"crash\", \"glitch\", \"slow\", \"update\"]):\n",
        "        return \"technical\"\n",
        "    elif any(kw in text for kw in [\"login\", \"account\", \"password\", \"access\", \"locked\", \"reset\", \"credentials\"]):\n",
        "        return \"account\"\n",
        "    elif any(kw in text for kw in [\"delivery\", \"arrive\", \"late\", \"shipping\", \"delayed\", \"tracking\", \"package\"]):\n",
        "        return \"delivery\"\n",
        "    elif any(kw in text for kw in [\"product\", \"item\", \"order\", \"quality\", \"broken\", \"damaged\", \"warranty\"]):\n",
        "        return \"product\"\n",
        "    elif any(kw in text for kw in [\"help\", \"support\", \"assistance\", \"customer service\", \"agent\", \"representative\"]):\n",
        "        return \"support\"\n",
        "    else:\n",
        "        return \"general\"\n",
        "\n",
        "# Filter for inbound messages and assign categories\n",
        "df = df[df[\"inbound\"] == True].copy()\n",
        "df[\"category\"] = df[\"text\"].apply(assign_category)\n",
        "df = df[[\"text\", \"category\"]].dropna().reset_index(drop=True)\n",
        "\n",
        "# Encode label classes to numerical IDs\n",
        "le = LabelEncoder()\n",
        "df[\"label\"] = le.fit_transform(df[\"category\"])\n",
        "\n",
        "label_names = le.classes_\n",
        "\n",
        "# Split dataset into training and validation sets\n",
        "X_train, X_val, y_train, y_val = train_test_split(\n",
        "    df[\"text\"], df[\"label\"], \n",
        "    test_size=0.2, \n",
        "    random_state=42, \n",
        "    stratify=df[\"label\"]\n",
        ")\n",
        "\n",
        "# Reset index after split\n",
        "X_train = X_train.reset_index(drop=True)\n",
        "X_val = X_val.reset_index(drop=True)\n",
        "y_train = y_train.reset_index(drop=True)\n",
        "y_val = y_val.reset_index(drop=True)\n",
        "\n",
        "# Tokenize the text inputs\n",
        "model_name = \"distilbert-base-uncased\"\n",
        "\n",
        "tokenizer = DistilBertTokenizerFast.from_pretrained(model_name)\n",
        "\n",
        "train_encodings = tokenizer(\n",
        "    list(X_train), truncation=True, padding='max_length', max_length=128\n",
        ")\n",
        "val_encodings = tokenizer(\n",
        "    list(X_val), truncation=True, padding='max_length', max_length=128\n",
        ")\n",
        "\n",
        "# Prepare custom dataset class for PyTorch\n",
        "class TweetDataset(Dataset):\n",
        "    \"\"\"Custom dataset for DistilBERT fine-tuning.\"\"\"\n",
        "    def __init__(self, encodings, labels):\n",
        "        self.encodings = encodings\n",
        "        self.labels = labels\n",
        "    \n",
        "    def __getitem__(self, idx):\n",
        "        item = {key: torch.tensor(val[idx]) for key, val in self.encodings.items()}\n",
        "        item[\"labels\"] = torch.tensor(self.labels[idx])\n",
        "        return item\n",
        "    \n",
        "    def __len__(self):\n",
        "        return len(self.labels)\n",
        "\n",
        "\n",
        "# Create training and validation dataset instances\n",
        "train_dataset = TweetDataset(train_encodings, y_train)\n",
        "val_dataset = TweetDataset(val_encodings, y_val)\n",
        "\n",
        "# Loading DistilBERT with custom number of output classes\n",
        "model = DistilBertForSequenceClassification.from_pretrained(\n",
        "    \"distilbert-base-uncased\", \n",
        "    num_labels=len(label_names)\n",
        ")\n",
        "\n",
        "# Define training arguments with early stopping\n",
        "training_args = TrainingArguments(\n",
        "    output_dir=\"./results\",\n",
        "    num_train_epochs=10,\n",
        "    per_device_train_batch_size=16,\n",
        "    per_device_eval_batch_size=32,\n",
        "    evaluation_strategy='epoch',\n",
        "    save_strategy='epoch',\n",
        "    logging_steps=20,\n",
        "    report_to='none',\n",
        "    load_best_model_at_end=True,\n",
        "    metric_for_best_model='loss',\n",
        "    greater_is_better=False,\n",
        "    fp16=True\n",
        ")\n",
        "\n",
        "# Early stopping callback\n",
        "early_stopping = EarlyStoppingCallback(\n",
        "    early_stopping_patience=3,\n",
        "    early_stopping_threshold=0.01\n",
        ")\n",
        "\n",
        "# Initialize trainer\n",
        "trainer = Trainer(\n",
        "    model=model,\n",
        "    train_dataset=train_dataset,\n",
        "    eval_dataset=val_dataset,\n",
        "    args=training_args,\n",
        "    callbacks=[early_stopping],\n",
        ")\n",
        "\n",
        "# Train the model\n",
        "trainer.train()\n",
        "\n",
        "# Evaluate the trained model\n",
        "preds = trainer.predict(val_dataset)\n",
        "y_pred = preds.predictions.argmax(-1)\n",
        "\n",
        "print(classification_report(y_val, y_pred, target_names=label_names))"
      ]
    },
    {
      "cell_type": "code",
      "execution_count": null,
      "metadata": {
        "id": "oU4fb68TB7Tk"
      },
      "outputs": [],
      "source": []
    },
    {
      "cell_type": "code",
      "execution_count": null,
      "metadata": {
        "id": "a31fOql3B7VE"
      },
      "outputs": [],
      "source": []
    },
    {
      "cell_type": "code",
      "execution_count": null,
      "metadata": {
        "id": "eAzwdQ7_B7W5"
      },
      "outputs": [],
      "source": []
    },
    {
      "cell_type": "code",
      "execution_count": null,
      "metadata": {
        "id": "xkrOJue_B7aB"
      },
      "outputs": [],
      "source": []
    },
    {
      "cell_type": "code",
      "execution_count": null,
      "metadata": {
        "id": "5BYngGroB7cW"
      },
      "outputs": [],
      "source": []
    }
  ],
  "metadata": {
    "colab": {
      "provenance": []
    },
    "kernelspec": {
      "display_name": "minivla",
      "language": "python",
      "name": "python3"
    },
    "language_info": {
      "codemirror_mode": {
        "name": "ipython",
        "version": 3
      },
      "file_extension": ".py",
      "mimetype": "text/x-python",
      "name": "python",
      "nbconvert_exporter": "python",
      "pygments_lexer": "ipython3",
      "version": "3.10.16"
    }
  },
  "nbformat": 4,
  "nbformat_minor": 0
}
